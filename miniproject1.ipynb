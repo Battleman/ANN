{
 "cells": [
  {
   "cell_type": "markdown",
   "metadata": {},
   "source": [
    "# Miniproject 1: Image Classification\n",
    "\n",
    "## Introduction\n",
    "\n",
    "### Important dates:\n",
    "\n",
    "- Project release: Friday, 15th March 2019\n",
    "- **Submission deadline**: Monday, 29th April 2019, 11:59 pm\n",
    "\n",
    "### Description\n",
    "\n",
    "One of the deepest traditions in learning about deep learning is to first [tackle the exciting problem of MNIST classification](http://yann.lecun.com/exdb/mnist/). [The MNIST database](https://en.wikipedia.org/wiki/MNIST_database) (Modified National Institute of Standards and Technology database) is a large database of handwritten digits that is commonly used as a first test for new classification algorithms. \n",
    "We follow this tradition to investigate the performance of artificial neural networks of different complexity on MNIST. However, since MNIST is too easy for accessing the full power of modern machine learning algorithms (see e.g. [this post](https://twitter.com/goodfellow_ian/status/852591106655043584)) we will extend our analysis to the recently introduced, harder [Fashion-MNIST dataset](https://github.com/zalandoresearch/fashion-mnist).\n",
    "\n",
    "\n",
    "### Prerequisites\n",
    "\n",
    "- You should have a running installation of [tensorflow](https://www.tensorflow.org/install/) and [keras](https://keras.io/). Feel free to gain inspiration from the [Keras example directory](https://github.com/keras-team/keras/tree/master/examples) for your implementations.\n",
    "- You should know the concepts \"multilayer perceptron\", \"stochastic gradient descent with minibatches\", \"convolutional neural network\", \"training and validation data\", \"overfitting\" and \"early stopping\".\n",
    "\n",
    "### What you will learn\n",
    "\n",
    "- You will learn how to define feedforward neural networks in keras and fit them to data.\n",
    "- You will be guided through a prototyping procedure for the application of deep learning to a specific domain.\n",
    "- You will get in contact with concepts discussed later in the lecture, like \"regularization\", \"batch normalization\" and \"convolutional networks\".\n",
    "- You will gain some experience on the influence of network architecture, optimizer and regularization choices on the goodness of fit.\n",
    "- You will learn to be more patient :) Some fits may take your computer quite a bit of time; run them over night (or on an external server).\n",
    "\n",
    "### Evaluation criteria\n",
    "\n",
    "The evaluation is (mostly) based on the figures you submit and your answer sentences. Provide clear and concise answers respecting the indicated maximum length (answers to the questions should be below the line that says \"Answer to question ...\").\n",
    "\n",
    "**The submitted notebook must be run by you!** We will only do random tests of your code and not re-run the full notebook. There will be fraud detection sessions at the end of the semester.\n",
    "\n",
    "### Your names\n",
    "\n",
    "**Before you start**: please enter your full name(s) in the field below."
   ]
  },
  {
   "cell_type": "code",
   "execution_count": 1,
   "metadata": {
    "ExecuteTime": {
     "end_time": "2018-03-09T09:08:24.514461Z",
     "start_time": "2018-03-09T09:08:24.506410Z"
    }
   },
   "outputs": [],
   "source": [
    "student1 = \"Zeya Yin\"\n",
    "student2 = \"Olivier Cloux\""
   ]
  },
  {
   "cell_type": "markdown",
   "metadata": {
    "ExecuteTime": {
     "end_time": "2018-02-22T21:52:59.697375Z",
     "start_time": "2018-02-22T21:52:59.689443Z"
    }
   },
   "source": [
    "## Some helper functions\n",
    "\n",
    "For your convenience we provide here some functions to preprocess the data and plot the results later. Simply run the following cells with `Shift-Enter`.\n",
    "\n",
    "### Dependencies and constants"
   ]
  },
  {
   "cell_type": "code",
   "execution_count": 2,
   "metadata": {
    "ExecuteTime": {
     "end_time": "2018-02-23T14:27:09.352019Z",
     "start_time": "2018-02-23T14:27:08.476310Z"
    }
   },
   "outputs": [
    {
     "name": "stderr",
     "output_type": "stream",
     "text": [
      "Using TensorFlow backend.\n"
     ]
    }
   ],
   "source": [
    "%matplotlib inline\n",
    "\n",
    "import numpy as np\n",
    "import time\n",
    "import matplotlib.pyplot as plt\n",
    "import scipy.io\n",
    "import pickle\n",
    "\n",
    "import keras\n",
    "from keras.models import Sequential\n",
    "from keras.layers import Dense, Conv2D, MaxPooling2D, Dropout, Flatten\n",
    "from keras.optimizers import SGD, Adam"
   ]
  },
  {
   "cell_type": "markdown",
   "metadata": {},
   "source": [
    "### Plotting"
   ]
  },
  {
   "cell_type": "code",
   "execution_count": null,
   "metadata": {
    "ExecuteTime": {
     "end_time": "2018-02-23T15:11:52.252208Z",
     "start_time": "2018-02-23T15:11:52.121360Z"
    }
   },
   "outputs": [],
   "source": [
    "def plot_some_samples(x, y = [], yhat = [], select_from = [], \n",
    "                      ncols = 6, nrows = 4, xdim = 28, ydim = 28,\n",
    "                      label_mapping = range(10)):\n",
    "    \"\"\"plot some input vectors as grayscale images (optionally together with their assigned or predicted labels).\n",
    "    \n",
    "    x is an NxD - dimensional array, where D is the length of an input vector and N is the number of samples.\n",
    "    Out of the N samples, ncols x nrows indices are randomly selected from the list select_from (if it is empty, select_from becomes range(N)).\n",
    "    \n",
    "    Keyword arguments:\n",
    "    y             -- corresponding labels to plot in green below each image.\n",
    "    yhat          -- corresponding predicted labels to plot in red below each image.\n",
    "    select_from   -- list of indices from which to select the images.\n",
    "    ncols, nrows  -- number of columns and rows to plot.\n",
    "    xdim, ydim    -- number of pixels of the images in x- and y-direction.\n",
    "    label_mapping -- map labels to digits.\n",
    "    \n",
    "    \"\"\"\n",
    "    fig, ax = plt.subplots(nrows, ncols)\n",
    "    if len(select_from) == 0:\n",
    "        select_from = range(x.shape[0])\n",
    "    indices = np.random.choice(select_from, size = min(ncols * nrows, len(select_from)), replace = False)\n",
    "    for i, ind in enumerate(indices):\n",
    "        thisax = ax[i//ncols,i%ncols]\n",
    "        thisax.matshow(x[ind].reshape(xdim, ydim), cmap='gray')\n",
    "        thisax.set_axis_off()\n",
    "        if len(y) != 0:\n",
    "            j = y[ind] if type(y[ind]) != np.ndarray else y[ind].argmax()\n",
    "            thisax.text(0, 0, (label_mapping[j]+1)%10, color='green', \n",
    "                                                       verticalalignment='top',\n",
    "                                                       transform=thisax.transAxes)\n",
    "        if len(yhat) != 0:\n",
    "            k = yhat[ind] if type(yhat[ind]) != np.ndarray else yhat[ind].argmax()\n",
    "            thisax.text(1, 0, (label_mapping[k]+1)%10, color='red',\n",
    "                                             verticalalignment='top',\n",
    "                                             horizontalalignment='right',\n",
    "                                             transform=thisax.transAxes)\n",
    "    return fig\n",
    "\n",
    "def prepare_standardplot(title, xlabel):\n",
    "    fig, (ax1, ax2) = plt.subplots(1, 2, figsize=(15,5))\n",
    "    fig.suptitle(title)\n",
    "    ax1.set_ylabel('categorical cross entropy')\n",
    "    ax1.set_xlabel(xlabel)\n",
    "    ax1.set_yscale('log')\n",
    "    ax2.set_ylabel('accuracy [% correct]')\n",
    "    ax2.set_xlabel(xlabel)\n",
    "    return fig, ax1, ax2\n",
    "\n",
    "def finalize_standardplot(fig, ax1, ax2):\n",
    "    ax1handles, ax1labels = ax1.get_legend_handles_labels()\n",
    "    if len(ax1labels) > 0:\n",
    "        ax1.legend(ax1handles, ax1labels)\n",
    "    ax2handles, ax2labels = ax2.get_legend_handles_labels()\n",
    "    if len(ax2labels) > 0:\n",
    "        ax2.legend(ax2handles, ax2labels)\n",
    "    fig.tight_layout()\n",
    "    plt.subplots_adjust(top=0.9)\n",
    "\n",
    "def plot_history(history, title):\n",
    "    fig, ax1, ax2 = prepare_standardplot(title, 'epoch')\n",
    "    ax1.plot(history.history['loss'], label = \"training\")\n",
    "    ax1.plot(history.history['val_loss'], label = \"validation\")\n",
    "    ax2.plot(history.history['acc'], label = \"training\")\n",
    "    ax2.plot(history.history['val_acc'], label = \"validation\")\n",
    "    finalize_standardplot(fig, ax1, ax2)\n",
    "    return fig\n"
   ]
  },
  {
   "cell_type": "markdown",
   "metadata": {},
   "source": [
    "## Exercise 1: Data import and visualization (4 points)\n",
    "\n",
    "### Description\n",
    "\n",
    "### Loading the data\n",
    "\n",
    "The datasets we use in this project (MNIST, Fashion-MNIST) consists of grayscale images with 28x28 pixels. Keras comes with a convenient in-built [data importer](https://keras.io/datasets/) for common datasets.\n",
    "\n",
    "1. As a warm-up exercise, use this importer to (down-)load the MNIST and Fashion-MNIST dataset. Assign useful variables to test & train images and labels for both datasets respectively. (2 pts)\n",
    "2. Use the corresponding plotting function defined above to plot some samples of the two datasets. What do the green digits at the bottom left of each image indicate? (1 sentence max.) (2 pts)\n",
    "\n",
    "The low resolution (and grayscale) of the images certainly misses some information that could be helpful for classifying the images. However, since the data has lower dimensionality due to the low resolution, the fitting procedures converge faster. This is an advantage in situations like here (or generally when prototyping), were we want to try many different things without having to wait too long for computations to finish.\n",
    "\n"
   ]
  },
  {
   "cell_type": "markdown",
   "metadata": {},
   "source": [
    "### Solution"
   ]
  },
  {
   "cell_type": "code",
   "execution_count": 4,
   "metadata": {
    "ExecuteTime": {
     "end_time": "2018-02-23T14:27:44.442862Z",
     "start_time": "2018-02-23T14:27:09.505547Z"
    }
   },
   "outputs": [],
   "source": [
    "from keras.datasets import mnist\n",
    "from keras.datasets import fashion_mnist\n",
    "\n",
    "(x_train, y_train), (x_test, y_test) = mnist.load_data()\n",
    "(x_fashion_train, y_fashion_train), (x_fashion_test, y_fashion_test) = fashion_mnist.load_data()"
   ]
  },
  {
   "cell_type": "code",
   "execution_count": null,
   "metadata": {},
   "outputs": [],
   "source": []
  },
  {
   "cell_type": "markdown",
   "metadata": {},
   "source": [
    "Answer to question 2:"
   ]
  },
  {
   "cell_type": "markdown",
   "metadata": {},
   "source": []
  },
  {
   "cell_type": "markdown",
   "metadata": {},
   "source": [
    "**Data pre-processing**: To prepare for fitting we transform the labels to one hot coding, i.e. for 5 classes, label 2 becomes the vector [0, 0, 1, 0, 0] (python uses 0-indexing). Furthermore we reshape (flatten) the input images to input vectors and rescale the data into the range [0,1]."
   ]
  },
  {
   "cell_type": "code",
   "execution_count": 5,
   "metadata": {},
   "outputs": [],
   "source": [
    "y_train = keras.utils.to_categorical(y_train)\n",
    "y_test = keras.utils.to_categorical(y_test)\n",
    "\n",
    "y_fashion_train = keras.utils.to_categorical(y_fashion_train)\n",
    "y_fashion_test = keras.utils.to_categorical(y_fashion_test)\n"
   ]
  },
  {
   "cell_type": "code",
   "execution_count": 6,
   "metadata": {},
   "outputs": [],
   "source": [
    "x_train = x_train.reshape(x_train.shape[0], x_train.shape[1]*x_train.shape[2])/np.max(x_train)\n",
    "x_test = x_test.reshape(x_test.shape[0], x_test.shape[1]*x_test.shape[2])/np.max(x_test)\n",
    "\n",
    "x_fashion_train = x_fashion_train.reshape(x_fashion_train.shape[0], x_fashion_train.shape[1]*x_fashion_train.shape[2])/np.max(x_fashion_train)\n",
    "x_fashion_test = x_fashion_test.reshape(x_fashion_test.shape[0], x_fashion_test.shape[1]*x_fashion_test.shape[2])/np.max(x_fashion_test)"
   ]
  },
  {
   "cell_type": "code",
   "execution_count": 7,
   "metadata": {},
   "outputs": [
    {
     "data": {
      "text/plain": [
       "(60000, 784)"
      ]
     },
     "execution_count": 7,
     "metadata": {},
     "output_type": "execute_result"
    }
   ],
   "source": [
    "x_train.shape\n"
   ]
  },
  {
   "cell_type": "markdown",
   "metadata": {},
   "source": [
    "## Exercise 2: No hidden layer (10 points)\n",
    "\n",
    "### Description\n",
    "\n",
    "Define and fit a model without a hidden layer (since we will use multi-layer models later in this project, you can define a general constructor function for models with an arbitrary number of hidden layers already at this point). (1 pt for each step)\n",
    "\n",
    "1. Use the softmax activation for the output layer.\n",
    "2. Use the categorical_crossentropy loss.\n",
    "3. Add the accuracy metric to the metrics.\n",
    "4. Choose stochastic gradient descent for the optimizer.\n",
    "5. Choose a minibatch size of 128.\n",
    "6. Fit for as many epochs as needed to see no further decrease in the validation loss.\n",
    "7. Plot the output of the fitting procedure (a history object) using the function plot_history defined above.\n",
    "8. Determine the indices of all test images that are misclassified by the fitted model and plot some of them using the function \n",
    "   `plot_some_samples(x_test, y_test, yhat_test, error_indices)`. Explain the green and red digits at the bottom of each image.\n",
    "9. Repeat the above steps for fitting the network to the Fashion-MNIST dataset.\n",
    "\n",
    "\n",
    "Hints:\n",
    "* Read the keras docs, in particular [Getting started with the Keras Sequential model](https://keras.io/getting-started/sequential-model-guide/).\n",
    "* Have a look at the keras [examples](https://github.com/keras-team/keras/tree/master/examples), e.g. [mnist_mlp](https://github.com/keras-team/keras/blob/master/examples/mnist_mlp.py)."
   ]
  },
  {
   "cell_type": "markdown",
   "metadata": {},
   "source": [
    "### Solution"
   ]
  },
  {
   "cell_type": "code",
   "execution_count": 8,
   "metadata": {},
   "outputs": [
    {
     "name": "stdout",
     "output_type": "stream",
     "text": [
      "_________________________________________________________________\n",
      "Layer (type)                 Output Shape              Param #   \n",
      "=================================================================\n",
      "dense_1 (Dense)              (None, 10)                7850      \n",
      "=================================================================\n",
      "Total params: 7,850\n",
      "Trainable params: 7,850\n",
      "Non-trainable params: 0\n",
      "_________________________________________________________________\n",
      "_________________________________________________________________\n",
      "Layer (type)                 Output Shape              Param #   \n",
      "=================================================================\n",
      "dense_2 (Dense)              (None, 10)                7850      \n",
      "=================================================================\n",
      "Total params: 7,850\n",
      "Trainable params: 7,850\n",
      "Non-trainable params: 0\n",
      "_________________________________________________________________\n"
     ]
    },
    {
     "data": {
      "image/png": "[encoded data removed]",
      "text/plain": [
       "<Figure size 432x288 with 2 Axes>"
      ]
     },
     "metadata": {
      "needs_background": "light"
     },
     "output_type": "display_data"
    },
    {
     "data": {
      "image/png": "[encoded data removed]",
      "text/plain": [
       "<Figure size 432x288 with 2 Axes>"
      ]
     },
     "metadata": {
      "needs_background": "light"
     },
     "output_type": "display_data"
    }
   ],
   "source": [
    "##### for minst ######\n",
    "model = Sequential()\n",
    "model.add(Dense(10,activation='softmax',input_shape=(784,)))\n",
    "model.summary()\n",
    "model.compile(loss='categorical_crossentropy',optimizer=SGD(),metrics=['accuracy'])\n",
    "history = model.fit(x_train, y_train,\n",
    "                    batch_size=128,\n",
    "                    epochs=20,\n",
    "                    verbose=0,\n",
    "                    validation_data=(x_test, y_test))\n",
    "\n",
    "plot_history(history,'output_of_minist');\n",
    "\n",
    "'have not done step 8'\n",
    "##### for fashion_minst ######\n",
    "\n",
    "model = Sequential()\n",
    "model.add(Dense(10,activation='softmax',input_shape=(784,)))\n",
    "model.summary()\n",
    "model.compile(loss='categorical_crossentropy',optimizer=SGD(),metrics=['accuracy'])\n",
    "history = model.fit(x_fashion_train, y_fashion_train,\n",
    "                    batch_size=128,\n",
    "                    epochs=20,\n",
    "                    verbose=0,\n",
    "                    validation_data=(x_fashion_test, y_fashion_test))\n",
    "\n",
    "plot_history(history,'output_of_fashion_minist');"
   ]
  },
  {
   "cell_type": "markdown",
   "metadata": {},
   "source": [
    "Answer to question 10:"
   ]
  },
  {
   "cell_type": "markdown",
   "metadata": {},
   "source": []
  },
  {
   "cell_type": "markdown",
   "metadata": {},
   "source": [
    "## Exercise 3: One hidden layer, different optizimizers & overfitting (10 points)\n",
    "\n",
    "### Description\n",
    "\n",
    "Train a network with one hidden layer and compare different optimizers.\n",
    "\n",
    "1. Use one hidden layer with 128 units and the 'relu' activation. Use the [summary method](https://keras.io/models/about-keras-models/) to display your model in a compact way. (1 pt)\n",
    "2. Fit the model for 50 epochs with different learning rates of stochastic gradient descent (SGD). (1pt)\n",
    "3. Replace the stochastic gradient descent optimizer with the [Adam optimizer](https://keras.io/optimizers/#adam). (1pt)\n",
    "4. Plot the learning curves of SGD with a reasonable learning rate (i.e. in the range [0.01,0.1]) together with the learning curves of Adam in the same figure. Take care of a reasonable labeling of the curves in the plot. (2pts)\n",
    "5. Answer the questions below. (4pts)\n",
    "6. Run the network (using the Adam optimizer) on the Fashion-MNIST dataset and plot the learning curves using the plot_history function defined above. (1pt)"
   ]
  },
  {
   "cell_type": "markdown",
   "metadata": {},
   "source": [
    "### Solution"
   ]
  },
  {
   "cell_type": "code",
   "execution_count": null,
   "metadata": {},
   "outputs": [],
   "source": [
    "def modeling(optimizer, dataset=\"mnist\"):\n",
    "    model = Sequential()\n",
    "    model.add(Dense(128,activation='relu',input_shape=(784,)))\n",
    "    model.add(Dense(10,activation='softmax'))\n",
    "    model.summary()\n",
    "    model.compile(loss='categorical_crossentropy',optimizer=optimizer,metrics=['accuracy'])\n",
    "    if dataset == \"mnist\":\n",
    "        x_tr, y_tr = x_train, y_train\n",
    "        x_te, y_te = x_test, y_test\n",
    "    elif dataset == \"fashion\":\n",
    "        x_tr, y_tr = x_fashion_train, y_fashion_train\n",
    "        x_te, y_te = x_fashion_test, y_fashion_test\n",
    "    else:\n",
    "        raise Exception(\"Dataset {} not known\".format(dataset))\n",
    "    history = model.fit(x_tr, y_tr,\n",
    "                        batch_size=128,\n",
    "                        epochs=50,\n",
    "                        verbose=0,\n",
    "                        validation_data=(x_te, y_te))\n",
    "    return history"
   ]
  },
  {
   "cell_type": "markdown",
   "metadata": {},
   "source": [
    "#### Question 2"
   ]
  },
  {
   "cell_type": "code",
   "execution_count": null,
   "metadata": {},
   "outputs": [],
   "source": [
    "filename = \"ex3-histories.pickle\"\n",
    "try:\n",
    "    with open(filename, \"rb\") as f:\n",
    "        histories = pickle.load(f)\n",
    "except FileNotFoundError:\n",
    "    histories = {'SGD': {}}"
   ]
  },
  {
   "cell_type": "code",
   "execution_count": null,
   "metadata": {
    "scrolled": true
   },
   "outputs": [
    {
     "name": "stdout",
     "output_type": "stream",
     "text": [
      "Retrieved SGD with lr=0.0000001000\n",
      "Retrieved SGD with lr=0.0000001456\n",
      "Retrieved SGD with lr=0.0000002121\n",
      "Retrieved SGD with lr=0.0000003089\n",
      "Retrieved SGD with lr=0.0000004498\n",
      "Retrieved SGD with lr=0.0000006551\n",
      "Retrieved SGD with lr=0.0000009541\n",
      "Retrieved SGD with lr=0.0000013895\n",
      "Retrieved SGD with lr=0.0000020236\n",
      "Retrieved SGD with lr=0.0000029471\n",
      "Retrieved SGD with lr=0.0000042919\n",
      "Retrieved SGD with lr=0.0000062506\n",
      "Retrieved SGD with lr=0.0000091030\n",
      "Retrieved SGD with lr=0.0000132571\n",
      "Retrieved SGD with lr=0.0000193070\n",
      "Retrieved SGD with lr=0.0000281177\n",
      "Retrieved SGD with lr=0.0000409492\n",
      "Retrieved SGD with lr=0.0000596362\n",
      "Retrieved SGD with lr=0.0000868511\n",
      "Retrieved SGD with lr=0.0001264855\n",
      "Retrieved SGD with lr=0.0001842070\n",
      "Retrieved SGD with lr=0.0002682696\n",
      "Retrieved SGD with lr=0.0003906940\n",
      "Retrieved SGD with lr=0.0005689866\n",
      "Retrieved SGD with lr=0.0008286428\n",
      "Retrieved SGD with lr=0.0012067926\n",
      "Retrieved SGD with lr=0.0017575106\n",
      "Retrieved SGD with lr=0.0025595479\n",
      "Retrieved SGD with lr=0.0037275937\n",
      "Retrieved SGD with lr=0.0054286754\n",
      "Retrieved SGD with lr=0.0079060432\n",
      "Retrieved SGD with lr=0.0115139540\n",
      "Retrieved SGD with lr=0.0167683294\n",
      "Retrieved SGD with lr=0.0244205309\n",
      "Retrieved SGD with lr=0.0355648031\n",
      "Retrieved SGD with lr=0.0517947468\n",
      "Retrieved SGD with lr=0.0754312006\n",
      "Retrieved SGD with lr=0.1098541142\n",
      "Retrieved SGD with lr=0.1599858720\n",
      "Retrieved SGD with lr=0.2329951811\n",
      "Retrieved SGD with lr=0.3393221772\n",
      "Retrieved SGD with lr=0.4941713361\n",
      "Retrieved SGD with lr=0.7196856730\n",
      "Retrieved SGD with lr=1.0481131342\n",
      "Retrieved SGD with lr=1.5264179672\n",
      "Retrieved SGD with lr=2.2229964825\n",
      "Retrieved SGD with lr=3.2374575428\n",
      "Retrieved SGD with lr=4.7148663635\n",
      "Retrieved SGD with lr=6.8664884500\n",
      "Retrieved SGD with lr=10.0000000000\n"
     ]
    }
   ],
   "source": [
    "##### for minst ######\n",
    "for lr in np.logspace(-7,1,50):\n",
    "    approx = \"{:.10f}\".format(lr)\n",
    "    if approx in histories['SGD']:\n",
    "        print(\"Retrieved SGD with lr={}\".format(approx))\n",
    "    else:\n",
    "        print(\"Training with Learning rate = {}\".format(lr))\n",
    "        history = modeling(SGD(lr=lr))\n",
    "        histories['SGD'][approx] = history\n",
    "        with open(filename, \"wb\") as f:\n",
    "            pickle.dump(histories, f)"
   ]
  },
  {
   "cell_type": "markdown",
   "metadata": {},
   "source": [
    "#### Question 3"
   ]
  },
  {
   "cell_type": "code",
   "execution_count": null,
   "metadata": {},
   "outputs": [
    {
     "name": "stdout",
     "output_type": "stream",
     "text": [
      "Adam retrieved\n"
     ]
    }
   ],
   "source": [
    "if 'Adam' in histories:\n",
    "    print(\"Adam retrieved\")\n",
    "else:\n",
    "    histories['Adam'] = modeling(Adam())\n",
    "    with open(filename, \"wb\") as f:\n",
    "        pickle.dump(histories, f)"
   ]
  },
  {
   "cell_type": "code",
   "execution_count": null,
   "metadata": {
    "ExecuteTime": {
     "end_time": "2018-02-23T15:42:45.497806Z",
     "start_time": "2018-02-23T15:42:44.961166Z"
    }
   },
   "outputs": [],
   "source": [
    "# This plotting routine might help you ...\n",
    "def comparison_plot(history_sgd, history_adam, label1, label2, title):\n",
    "    fig, ax1, ax2 = prepare_standardplot(title, \"epochs\")\n",
    "    ax1.plot(history_sgd.history['loss'], label=label1 + ' training')\n",
    "    ax1.plot(history_sgd.history['val_loss'], label=label1 + ' validation')\n",
    "    ax1.plot(history_adam.history['loss'], label=label2 + ' training')\n",
    "    ax1.plot(history_adam.history['val_loss'], label=label2 + ' validation')\n",
    "    ax2.plot(history_sgd.history['acc'], label=label1 + ' training')\n",
    "    ax2.plot(history_sgd.history['val_acc'], label=label1 + ' validation')\n",
    "    ax2.plot(history_adam.history['acc'], label=label2 + ' training')\n",
    "    ax2.plot(history_adam.history['val_acc'], label=label2 + ' validation')\n",
    "    finalize_standardplot(fig, ax1, ax2)\n",
    "    return fig"
   ]
  },
  {
   "cell_type": "markdown",
   "metadata": {},
   "source": [
    "#### Question 4"
   ]
  },
  {
   "cell_type": "code",
   "execution_count": null,
   "metadata": {},
   "outputs": [
    {
     "data": {
      "image/png": "[encoded data removed]",
      "text/plain": [
       "<Figure size 432x288 with 2 Axes>"
      ]
     },
     "metadata": {
      "needs_background": "light"
     },
     "output_type": "display_data"
    }
   ],
   "source": [
    "comparison_plot(histories['SGD']['0.0079060432'], histories['Adam'], 'SGD'.format(0.0079060432), 'Adam', 'Comparison between SGD (lr = {:5f}) and Adam'.format(0.0079060432));"
   ]
  },
  {
   "cell_type": "markdown",
   "metadata": {},
   "source": [
    "#### Question 5\n",
    "**Question**: What happens if the learning rate of SGD is A) very large B) very small? Please answer A) and B) with one full sentence each (double click this markdown cell to edit).\n",
    "\n",
    "**Answer**:\n",
    "\n",
    "A) Each step miss the optimal point by overjumping, creating a divergence and never improving accuracy.\n",
    "\n",
    "B) Each step is awfully small, which blocks the iterations from doing any form of progress in a reasonable time."
   ]
  },
  {
   "cell_type": "markdown",
   "metadata": {},
   "source": [
    "**Question**: At which epoch (approximately) does the Adam optimizer start to overfit (on MNIST)? Please answer with one full sentence.\n",
    "\n",
    "**Answer**: When the training accuracy and loss become better than the validation and loss starts to grow again, so after a few epoche (~5)\n"
   ]
  },
  {
   "cell_type": "markdown",
   "metadata": {},
   "source": [
    "**Question**: Explain the qualitative difference between the loss curves and the accuracy curves with respect to signs of overfitting. Please answer with at most 3 full sentences.\n",
    "\n",
    "**Answer**: When overfitting appears, we see a training loss ridiculously close to 0, while training precision goes to 1. It may not be a problem if the testing loss/accuracy followed, but they are clearly stuck at some threshold. Also, when the loss starts to grow again we have hit overfitting."
   ]
  },
  {
   "cell_type": "markdown",
   "metadata": {},
   "source": [
    "#### Question 6"
   ]
  },
  {
   "cell_type": "code",
   "execution_count": null,
   "metadata": {},
   "outputs": [
    {
     "name": "stdout",
     "output_type": "stream",
     "text": [
      "_________________________________________________________________\n",
      "Layer (type)                 Output Shape              Param #   \n",
      "=================================================================\n",
      "dense_3 (Dense)              (None, 128)               100480    \n",
      "_________________________________________________________________\n",
      "dense_4 (Dense)              (None, 10)                1290      \n",
      "=================================================================\n",
      "Total params: 101,770\n",
      "Trainable params: 101,770\n",
      "Non-trainable params: 0\n",
      "_________________________________________________________________\n"
     ]
    }
   ],
   "source": [
    "fashion_adam =modeling(Adam(), dataset=\"fashion\") "
   ]
  },
  {
   "cell_type": "code",
   "execution_count": null,
   "metadata": {},
   "outputs": [
    {
     "data": {
      "image/png": "[encoded data removed]",
      "text/plain": [
       "<Figure size 432x288 with 2 Axes>"
      ]
     },
     "metadata": {
      "needs_background": "light"
     },
     "output_type": "display_data"
    }
   ],
   "source": [
    "plot_history(fashion_adam, 'Adam on Fashion_mnist');"
   ]
  },
  {
   "cell_type": "markdown",
   "metadata": {},
   "source": [
    "## Exercise 4: Model performance as a function of number of hidden neurons (8 points)\n",
    "\n",
    "### Description\n",
    "\n",
    "Investigate how the best validation loss and accuracy depends on the number of hidden neurons in a single layer.\n",
    "\n",
    "1. Fit a reasonable number of models (e.g. 5) with different hidden layer sizes (between 10 and 1000 hidden neurons) to the MNIST dataset. You may use the Adam optimizer and a meaningful number of epochs (overfitting!). (3 pts)\n",
    "2. Plot the best validation loss and accuracy versus the number of hidden neurons. Is the observed trend in accordance with the [general approximation theorem](https://en.wikipedia.org/wiki/Universal_approximation_theorem)? If not, what might be practical reasons for the deviation? (2 sentences max.) (3 pts)\n",
    "3. Repeat steps 1. & 2. for the Fashion-MNIST dataset. (2 pts)\n",
    "\n",
    "In this exercise we fit each model only for one initialization and random seed. In practice one would collect some statistics (e.g. 25-, 50-, 75-percentiles) for each layer size by fitting each model several times with different initializations and the random seeds. You may also want to do this here. It is a good exercise, but not mandatory as it takes quite a bit of computation time.\n",
    "\n",
    "### Solution"
   ]
  },
  {
   "cell_type": "code",
   "execution_count": null,
   "metadata": {},
   "outputs": [],
   "source": [
    "def varying_layer_size(hidden_neurons=10, dataset=\"mnist\"):\n",
    "    model = Sequential()\n",
    "    model.add(Dense(hidden_neurons,activation='relu',input_shape=(784,)))\n",
    "    model.add(Dense(10,activation='softmax'))\n",
    "    model.summary()\n",
    "    model.compile(loss='categorical_crossentropy',optimizer=Adam(),metrics=['accuracy'])\n",
    "    if dataset == \"mnist\":\n",
    "        x_tr, y_tr = x_train, y_train\n",
    "        x_te, y_te = x_test, y_test\n",
    "    elif dataset == \"fashion\":\n",
    "        x_tr, y_tr = x_fashion_train, y_fashion_train\n",
    "        x_te, y_te = x_fashion_test, y_fashion_test\n",
    "    else:\n",
    "        raise Exception(\"Dataset {} not known\".format(dataset))\n",
    "    return model.fit(x_tr, y_tr,\n",
    "                        batch_size=128,\n",
    "                        epochs=20,\n",
    "                        verbose=0,\n",
    "                        validation_data=(x_te, y_te))\n"
   ]
  },
  {
   "cell_type": "code",
   "execution_count": null,
   "metadata": {
    "ExecuteTime": {
     "end_time": "2018-02-23T14:58:15.181352Z",
     "start_time": "2018-02-23T14:31:52.623267Z"
    }
   },
   "outputs": [
    {
     "name": "stdout",
     "output_type": "stream",
     "text": [
      "Retrieved for 10 neurons\n",
      "Retrieved for 20 neurons\n",
      "Retrieved for 75 neurons\n",
      "Retrieved for 100 neurons\n",
      "Retrieved for 120 neurons\n",
      "Retrieved for 250 neurons\n",
      "Retrieved for 350 neurons\n",
      "Retrieved for 500 neurons\n",
      "_________________________________________________________________\n",
      "Layer (type)                 Output Shape              Param #   \n",
      "=================================================================\n",
      "dense_5 (Dense)              (None, 550)               431750    \n",
      "_________________________________________________________________\n",
      "dense_6 (Dense)              (None, 10)                5510      \n",
      "=================================================================\n",
      "Total params: 437,260\n",
      "Trainable params: 437,260\n",
      "Non-trainable params: 0\n",
      "_________________________________________________________________\n",
      "Retrieved for 600 neurons\n",
      "_________________________________________________________________\n",
      "Layer (type)                 Output Shape              Param #   \n",
      "=================================================================\n",
      "dense_7 (Dense)              (None, 650)               510250    \n",
      "_________________________________________________________________\n",
      "dense_8 (Dense)              (None, 10)                6510      \n",
      "=================================================================\n",
      "Total params: 516,760\n",
      "Trainable params: 516,760\n",
      "Non-trainable params: 0\n",
      "_________________________________________________________________\n",
      "_________________________________________________________________\n",
      "Layer (type)                 Output Shape              Param #   \n",
      "=================================================================\n",
      "dense_9 (Dense)              (None, 700)               549500    \n",
      "_________________________________________________________________\n",
      "dense_10 (Dense)             (None, 10)                7010      \n",
      "=================================================================\n",
      "Total params: 556,510\n",
      "Trainable params: 556,510\n",
      "Non-trainable params: 0\n",
      "_________________________________________________________________\n",
      "Retrieved for 750 neurons\n",
      "_________________________________________________________________\n",
      "Layer (type)                 Output Shape              Param #   \n",
      "=================================================================\n",
      "dense_11 (Dense)             (None, 800)               628000    \n",
      "_________________________________________________________________\n",
      "dense_12 (Dense)             (None, 10)                8010      \n",
      "=================================================================\n",
      "Total params: 636,010\n",
      "Trainable params: 636,010\n",
      "Non-trainable params: 0\n",
      "_________________________________________________________________\n",
      "Retrieved for 900 neurons\n",
      "_________________________________________________________________\n",
      "Layer (type)                 Output Shape              Param #   \n",
      "=================================================================\n",
      "dense_13 (Dense)             (None, 950)               745750    \n",
      "_________________________________________________________________\n",
      "dense_14 (Dense)             (None, 10)                9510      \n",
      "=================================================================\n",
      "Total params: 755,260\n",
      "Trainable params: 755,260\n",
      "Non-trainable params: 0\n",
      "_________________________________________________________________\n",
      "Retrieved for 1000 neurons\n"
     ]
    }
   ],
   "source": [
    "######################for minst################################\n",
    "filename = \"mnist_varying_neurons.pickle\"\n",
    "try:\n",
    "    with open(filename ,'rb') as f:\n",
    "        mnist_various_neurons = pickle.load(f)\n",
    "except FileNotFoundError:\n",
    "    mnist_various_neurons = {}\n",
    "\n",
    "for n in [10,20,75,100,120,250,350,500,550,600,650,700,750,800,900,950,1000]:\n",
    "    if n in mnist_various_neurons:\n",
    "        print(\"Retrieved for {} neurons\".format(n))\n",
    "    else:\n",
    "        mnist_various_neurons[n] = varying_layer_size(n, 'mnist')\n",
    "        with open(filename, 'wb') as f:\n",
    "            pickle.dump(mnist_various_neurons, f)"
   ]
  },
  {
   "cell_type": "code",
   "execution_count": null,
   "metadata": {
    "scrolled": true
   },
   "outputs": [
    {
     "name": "stdout",
     "output_type": "stream",
     "text": [
      "_________________________________________________________________\n",
      "Layer (type)                 Output Shape              Param #   \n",
      "=================================================================\n",
      "dense_15 (Dense)             (None, 10)                7850      \n",
      "_________________________________________________________________\n",
      "dense_16 (Dense)             (None, 10)                110       \n",
      "=================================================================\n",
      "Total params: 7,960\n",
      "Trainable params: 7,960\n",
      "Non-trainable params: 0\n",
      "_________________________________________________________________\n",
      "_________________________________________________________________\n",
      "Layer (type)                 Output Shape              Param #   \n",
      "=================================================================\n",
      "dense_17 (Dense)             (None, 20)                15700     \n",
      "_________________________________________________________________\n",
      "dense_18 (Dense)             (None, 10)                210       \n",
      "=================================================================\n",
      "Total params: 15,910\n",
      "Trainable params: 15,910\n",
      "Non-trainable params: 0\n",
      "_________________________________________________________________\n",
      "_________________________________________________________________\n",
      "Layer (type)                 Output Shape              Param #   \n",
      "=================================================================\n",
      "dense_19 (Dense)             (None, 75)                58875     \n",
      "_________________________________________________________________\n",
      "dense_20 (Dense)             (None, 10)                760       \n",
      "=================================================================\n",
      "Total params: 59,635\n",
      "Trainable params: 59,635\n",
      "Non-trainable params: 0\n",
      "_________________________________________________________________\n"
     ]
    }
   ],
   "source": [
    "######################for fashion################################\n",
    "filename = \"fashion_varying_neurons.pickle\"\n",
    "# try to retrieve a result\n",
    "try:\n",
    "    with open(filename, 'rb') as f:\n",
    "        fashion_various_neurons = pickle.load(f)\n",
    "except FileNotFoundError:\n",
    "    fashion_various_neurons = {}\n",
    "\n",
    "#for some number of neurons\n",
    "for n in [10,20,75,100,120,250,350,500,550,600,650,700,750,800,900,950,1000]:\n",
    "    if n in fashion_various_neurons:\n",
    "        #already computed\n",
    "        print(\"Retrieved for {} neurons\".format(n))\n",
    "    else:\n",
    "        #need to compute and \n",
    "        fashion_various_neurons[n] = varying_layer_size(n, 'fashion')\n",
    "        with open(filename, 'wb') as f:\n",
    "            pickle.dump(fashion_various_neurons, f)"
   ]
  },
  {
   "cell_type": "markdown",
   "metadata": {},
   "source": [
    "#### Question 2"
   ]
  },
  {
   "cell_type": "code",
   "execution_count": null,
   "metadata": {},
   "outputs": [],
   "source": [
    "plt.figure(figsize=(15,5))\n",
    "plt.subplot(121)\n",
    "best_losses = [mnist_various_neurons[n].history['val_loss'][-1] for n in sorted(mnist_various_neurons)]\n",
    "plt.plot(sorted(mnist_various_neurons.keys()), best_losses, 'o-', label=\"MNIST\")\n",
    "best_losses = [fashion_various_neurons[n].history['val_loss'][-1] for n in sorted(fashion_various_neurons)]\n",
    "plt.plot(sorted(fashion_various_neurons.keys()), best_losses, 'o-', label=\"Fashion\")\n",
    "plt.legend()\n",
    "plt.xlabel(\"Neurons\")\n",
    "plt.ylabel('Validation loss')\n",
    "plt.title(\"Validation loss against # of neurons\")\n",
    "\n",
    "plt.subplot(122)\n",
    "best_acc = [mnist_various_neurons[n].history['val_acc'][-1] for n in sorted(mnist_various_neurons)]\n",
    "plt.plot(sorted(mnist_various_neurons.keys()), best_acc, 'o-', label=\"MNIST\")\n",
    "best_acc = [fashion_various_neurons[n].history['val_acc'][-1] for n in sorted(fashion_various_neurons)]\n",
    "plt.plot(sorted(fashion_various_neurons.keys()), best_acc, 'o-', label=\"Fashion\")\n",
    "plt.legend()\n",
    "plt.xlabel('Neurons')\n",
    "plt.ylabel('Validation accuracy')\n",
    "plt.title(\"Validation accuracy against # of neurons\")\n",
    "plt.tight_layout()\n",
    "plt.show()"
   ]
  },
  {
   "cell_type": "markdown",
   "metadata": {},
   "source": [
    "**Answer to question 2:**\n",
    "_For MNIST_, we see that we reach close to a perfect accuracy with no loss (respectively ~0.98 and 0.07 respectively). Supposing there exists a linear function mapping the pixels to their label, the difference between our model and the reality is $\\sim\\epsilon$. Thus the trend is in accordance with the theorem.\n",
    "\n",
    "_For Fashion-MNIST_ however, the prediction aren't as good, with about 0.89 accuracy and 0.33 loss, which can't be called \"equal at $\\epsilon$-close\". A possible reason for the smaller precision is that the Fashion-MNIST is a much more complicated dataset, and can't be approximated by a simple neural network. While MNIST only really requires a few pixels for identification (see https://gist.github.com/dgrtwo/aaef94ecc6a60cd50322c0054cc04478), Fashion-MNIST has much more variance accross one label, and thus requires more complex networks."
   ]
  },
  {
   "cell_type": "markdown",
   "metadata": {},
   "source": [
    "## Exercise 5: Going deeper: tricks and regularization (8 points)\n",
    "\n",
    "### Description\n",
    "\n",
    "Adding hidden layers to a deep network does not necessarily lead to a straight-forward improvement of performance. Overfitting can be counteracted with regularization and dropout. Batch normalization is supposed to mainly speed up convergence. Since the MNIST dataset is almost perfectly solved already by a one-hidden-layer network we use the Fashion-MNIST dataset in this exercise.\n",
    "\n",
    "1. Add one or two hidden layers with 50 hidden neurons (each) and train the network for a sufficiently long time (at least 100 epochs). Since deep models are very expressive you will most probably encounter overfitting. Try to improve the best validation scores of the model (even if it is only a minor improvement) by experimenting with batch_normalization layers, dropout layers and l1- and l2-regularization on weights (kernels) and biases. (4 pts)\n",
    "2. After you have found good settings, plot the learning curves for both models, naive (=no tricks/regularization) and tuned (=tricks + regularized), preferably together in a comparison plot. Discuss your results; refer to the model performance with only 1 hidden layer. (2 sentences max.) (2pts)\n",
    "3. Fit your best performing (probably regularized deep) model also to MNIST for having a reference for the next exercise. Plot the resulting learning curves. (2 pts)\n",
    "\n",
    "### Solution"
   ]
  },
  {
   "cell_type": "markdown",
   "metadata": {},
   "source": [
    "#### Question 1"
   ]
  },
  {
   "cell_type": "code",
   "execution_count": null,
   "metadata": {
    "ExecuteTime": {
     "end_time": "2018-02-23T16:26:50.480763Z",
     "start_time": "2018-02-23T16:06:32.938435Z"
    }
   },
   "outputs": [],
   "source": [
    "def multi_layers(hidden_layers=2, dataset=\"mnist\"):\n",
    "    model = Sequential()\n",
    "    model.add(Dense(50,activation='relu',input_shape=(784,)))\n",
    "    for _ in range(hidden_layers-1):\n",
    "        model.add(Dense(50,activation='relu'))\n",
    "    model.add(Dense(10,activation='softmax'))\n",
    "    model.summary()\n",
    "    model.compile(loss='categorical_crossentropy',optimizer=Adam(),metrics=['accuracy'])\n",
    "\n",
    "    x_tr, y_tr = x_fashion_train, y_fashion_train\n",
    "    x_te, y_te = x_fashion_test, y_fashion_test\n",
    "    return model.fit(x_tr, y_tr,\n",
    "                        batch_size=128,\n",
    "                        epochs=100,\n",
    "                        verbose=0,\n",
    "                        validation_data=(x_te, y_te))"
   ]
  },
  {
   "cell_type": "code",
   "execution_count": null,
   "metadata": {},
   "outputs": [],
   "source": [
    "two_layers=multi_layers(2)"
   ]
  },
  {
   "cell_type": "markdown",
   "metadata": {},
   "source": []
  },
  {
   "cell_type": "markdown",
   "metadata": {},
   "source": [
    "## Exercise 6: Convolutional neural networks (CNNs) (10 points)\n",
    "\n",
    "### Description\n",
    "\n",
    "Convolutional neural networks have an inductive bias that is well adapted to image classification.\n",
    "\n",
    "1. Design a convolutional neural network, play with different architectures and parameters. Hint: You may get valuable inspiration from the keras [examples](https://github.com/keras-team/keras/tree/master/examples). (4 pts)\n",
    "2. Plot the learning curves of the convolutional neural network for MNIST and Fashion-MNIST. (4 pts)\n",
    "3. How does the CNN performance compare to the so far best performing (deep) neural network model for the two data sets? (2 sentences max.) (2 pts)\n",
    "\n",
    "### Solution"
   ]
  },
  {
   "cell_type": "code",
   "execution_count": null,
   "metadata": {},
   "outputs": [],
   "source": [
    "\n",
    "\n",
    "img_rows = 28\n",
    "img_cols = 28\n",
    "x_train_r = x_train.reshape(x_train.shape[0], img_rows, img_cols, 1)\n",
    "x_fashion_train_r = x_fashion_train.reshape(x_fashion_train.shape[0],img_rows,img_cols,1)\n",
    "x_test_r = x_test.reshape(x_test.shape[0], img_rows, img_cols, 1)\n",
    "x_fashion_test_r = x_fashion_test.reshape(x_fashion_test.shape[0],img_rows,img_cols,1)\n",
    "    \n",
    "def first_layers(kernel_size =2):    \n",
    "    model = Sequential()\n",
    "    model.add(Conv2D(32, (2, 2), input_shape=(28,28,1),name = \"Conv1\"))\n",
    "    #model.add(BatchNormalization(axis=-1))\n",
    "    model.add(Conv2D(64, (2, 2), activation = 'selu',name = \"Conv2\"))\n",
    "    model.add(MaxPooling2D(pool_size=(2,2)))\n",
    "    return model\n",
    "    \n",
    "def build_2cov(kernel_size=2, dataset=\"mnist\"):   \n",
    "    model = first_layers(kernel_size=2)\n",
    "    model.add(Flatten())\n",
    "    model.add(Dense(32, activation='selu'))\n",
    "    model.add(Dropout(0.5))\n",
    "    model.add(Dense(10, activation='softmax'))\n",
    "    model.compile(loss='categorical_crossentropy', optimizer='adam', metrics=['accuracy'])\n",
    "    model.summary()\n",
    "    if dataset == \"mnist\":\n",
    "        x_tr, y_tr = x_train_r, y_train\n",
    "        x_te, y_te = x_test_r, y_test\n",
    "    elif dataset == \"fashion\":\n",
    "        x_tr, y_tr = x_fashion_train_r, y_fashion_train_r\n",
    "        x_te, y_te = x_fashion_test, y_fashion_test\n",
    "    else:\n",
    "        raise Exception(\"Dataset {} not known\".format(dataset))\n",
    "       \n",
    "    history = model.fit(x_tr, y_tr, batch_size=128, epochs=20, verbose=1, validation_data=(x_te, y_te))\n",
    "    plot_history(history, 'convolution')\n",
    "    return history\n",
    "\n",
    "######## check for different kernel size \n",
    "\n",
    "filename = \"minist_various_kernel.pickle\"\n",
    "try:\n",
    "    with open(filename) as f:\n",
    "        mnist_various_neurons = pickle.load(f)\n",
    "except FileNotFoundError:\n",
    "    mnist_various_neurons = {}\n",
    "\n",
    "for n in [2,3,4]:\n",
    "    if n not in mnist_various_neurons:\n",
    "        mnist_various_kernel[n] =  build_2cov(n, 'mnist')\n",
    "        pickle.dump(mnist_various_kernel)\n",
    "    \n",
    "    \n",
    "######################for fashion minst####################################\n",
    "filename = \"fashion_varying_kernel.pickle\"\n",
    "try:\n",
    "    with open(filename) as f:\n",
    "        fashion_various_kernel = pickle.load(f)\n",
    "except FileNotFoundError:\n",
    "    fashion_various_neurons = {}\n",
    "\n",
    "for n in [2,3,4]:\n",
    "    if n not in mnist_various_neurons:\n",
    "        fashion_various_kernel[n] = build_2cov(n, 'fashion')\n",
    "        pickle.dump(fashion_various_kernel)\n",
    "\n"
   ]
  },
  {
   "cell_type": "code",
   "execution_count": null,
   "metadata": {},
   "outputs": [],
   "source": [
    "#### Increase convolution layer\n",
    "def build_3cov(kernel_size=2, dataset=\"mnist\"):   \n",
    "    model = first_layers(kernel_size=2)\n",
    "    model.add(Conv2D(64, (3, 3), activation = 'relu'))\n",
    "    model.add(Dropout(0.5))\n",
    "    #model.add(MaxPooling2D(pool_size=(2,2)))\n",
    "    \n",
    "    model.add(Flatten())\n",
    "    model.add(Dense(32, activation='selu'))\n",
    "    model.add(Dropout(0.5))\n",
    "    model.add(Dense(10, activation='softmax'))\n",
    "    model.compile(loss='categorical_crossentropy', optimizer='adam', metrics=['accuracy'])\n",
    "    model.summary()\n",
    "    if dataset == \"mnist\":\n",
    "        x_tr, y_tr = x_train_r, y_train\n",
    "        x_te, y_te = x_test_r, y_test\n",
    "    elif dataset == \"fashion\":\n",
    "        x_tr, y_tr = x_fashion_train_r, y_fashion_train_r\n",
    "        x_te, y_te = x_fashion_test, y_fashion_test\n",
    "    else:\n",
    "        raise Exception(\"Dataset {} not known\".format(dataset))\n",
    "    model.summary()   \n",
    "    history = model.fit(x_tr, y_tr, batch_size=128, epochs=20, verbose=1, validation_data=(x_te, y_te))\n",
    "    plot_history(history, 'convolution')\n",
    "    return history\n",
    "\n",
    "model_3cov = build_3cov(2,\"mnist\")"
   ]
  },
  {
   "cell_type": "code",
   "execution_count": null,
   "metadata": {
    "ExecuteTime": {
     "end_time": "2018-02-23T16:05:21.840299Z",
     "start_time": "2018-02-23T15:51:11.993053Z"
    }
   },
   "outputs": [],
   "source": [
    "\n",
    "\n",
    "\n",
    "\n",
    "img_rows = 28\n",
    "img_cols = 28\n",
    "x_train_r = x_train.reshape(x_train.shape[0], img_rows, img_cols, 1)\n",
    "x_fashion_train_r = x_fashion_train.reshape(x_fashion_train.shape[0],img_rows,img_cols,1)\n",
    "x_test_r = x_test.reshape(x_test.shape[0], img_rows, img_cols, 1)\n",
    "model = Sequential()\n",
    "model.add(Conv2D(32, (2, 2), input_shape=(28,28,1),name = \"Conv1\"))\n",
    "#model.add(BatchNormalization(axis=-1))\n",
    "model.add(Conv2D(64, (2, 2), activation = 'selu',name = \"Conv2\"))\n",
    "model.add(Dropout(0.25))\n",
    "model.add(MaxPooling2D(pool_size=(2,1)))\n",
    "model.add(Conv2D(64, (2, 2), activation = 'selu',name = \"Conv3\"))\n",
    "model.add(Flatten())\n",
    "#model.add(BatchNormalization(epsilon=0.001,  axis=-1, momentum=0.99, weights=None, beta_init='zero',  gamma_regularizer=None, beta_regularizer=None))\n",
    "\n",
    "model.add(Dense(32, activation='selu'))\n",
    "model.add(Dropout(0.5))\n",
    "model.add(Dense(10, activation='softmax'))\n",
    "model.compile(loss='categorical_crossentropy', optimizer='adam', metrics=['accuracy'])\n",
    "model.summary()\n",
    "history = model.fit(x_train_r, y_train, batch_size=128, epochs=20, verbose=1, validation_data=(x_test_r, y_test))\n",
    "plot_history(history, 'convolution')\n",
    "\n",
    "\n"
   ]
  },
  {
   "cell_type": "markdown",
   "metadata": {},
   "source": [
    "Answer to question 3:"
   ]
  },
  {
   "cell_type": "markdown",
   "metadata": {},
   "source": []
  },
  {
   "cell_type": "markdown",
   "metadata": {},
   "source": [
    "## Exercise 7: Sigmoidal activation function and batch-normalization (6 points)\n",
    "\n",
    "### Description:\n",
    "\n",
    "In the original publication of batch normalization [Ioffe and Szegedy, 2014](https://arxiv.org/pdf/1502.03167.pdf), the authors mention a particularly beneficial effect of their method on networks with sigmoidal activation functions. This is because such networks usually suffer from saturating activations/vanishing gradients. Here we want to reproduce this behaviour (Chose either MNIST or Fashion-MNIST for this exercise).\n",
    "\n",
    "1. Implement the same convolutional network as in the previous exercise, but using the sigmoid activation function instead of the standard choice ReLU. Train the network for a reasonable amount of time. What do you observe? (1 sentence max.) (3 pts)\n",
    "2. Add batch-normalization layers to all convolutional and fully-connected layers (i.e. before each layer with learnable parameters). How does the performance change? Can the network reach the ReLU-CNN performance of the previous exercise? (1 sentence max.) (3 pts)\n",
    "3. **BONUS (optional, not graded**): Investigate our initial guess that saturating activity/vanishing gradients might be the cause of this behaviour. For that, create histograms of the hidden activitions for different hidden layers for the sigmoid-CNN and the sigmoid-CNN with batch-normalization (counting over both, samples and neurons per layer). You may only chose layers with learnable parameters. What do you observe?\n",
    "Hint: You can use the [keract](https://github.com/philipperemy/keract) package to access neural activation values for all layers of your network model.\n",
    "\n",
    "\n",
    "\n",
    "### Solution:"
   ]
  },
  {
   "cell_type": "code",
   "execution_count": null,
   "metadata": {},
   "outputs": [],
   "source": []
  },
  {
   "cell_type": "markdown",
   "metadata": {},
   "source": [
    "Answer to question 1:"
   ]
  },
  {
   "cell_type": "markdown",
   "metadata": {},
   "source": []
  },
  {
   "cell_type": "markdown",
   "metadata": {},
   "source": [
    "Answer to question 2:"
   ]
  },
  {
   "cell_type": "markdown",
   "metadata": {},
   "source": []
  }
 ],
 "metadata": {
  "kernelspec": {
   "display_name": "NeuralNet",
   "language": "python",
   "name": "neuralnet"
  },
  "language_info": {
   "codemirror_mode": {
    "name": "ipython",
    "version": 3
   },
   "file_extension": ".py",
   "mimetype": "text/x-python",
   "name": "python",
   "nbconvert_exporter": "python",
   "pygments_lexer": "ipython3",
   "version": "3.6.8"
  }
 },
 "nbformat": 4,
 "nbformat_minor": 2
}
